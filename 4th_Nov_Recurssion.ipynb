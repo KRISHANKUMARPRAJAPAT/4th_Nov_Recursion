{
 "cells": [
  {
   "cell_type": "markdown",
   "id": "d61a2ab7-dee8-4a26-aad3-0e8a1eb89d35",
   "metadata": {},
   "source": [
    "# Recursion "
   ]
  },
  {
   "cell_type": "code",
   "execution_count": null,
   "id": "8ef1e224-174b-4656-9d1f-1924486efcbc",
   "metadata": {},
   "outputs": [],
   "source": []
  },
  {
   "cell_type": "code",
   "execution_count": null,
   "id": "7c9f5333-0a12-4d6d-9d1b-257790897f7e",
   "metadata": {},
   "outputs": [],
   "source": []
  },
  {
   "cell_type": "code",
   "execution_count": null,
   "id": "3a050790-75f3-4661-8968-5b8883f896ad",
   "metadata": {},
   "outputs": [],
   "source": []
  },
  {
   "cell_type": "markdown",
   "id": "22b0ffd2-3f94-48af-bc5b-cf342351b7e7",
   "metadata": {
    "tags": []
   },
   "source": [
    "# Q.2 Given two strings word1 and word2, return the minimum number of operations required to convert word1 to word2.\n",
    "- **Example 1:**\n",
    "    Input: word1 = \"horse\", word2 = \"ros\"\n",
    "\n",
    "    Output: 3\n",
    "\n",
    "    Explanation:\n",
    "\n",
    "    horse -> rorse (replace 'h' with 'r')\n",
    "    rorse -> rose (remove 'r')\n",
    "    rose -> ros (remove 'e')\n",
    "\n",
    ".\n",
    "\n",
    "- **Example 2:**\n",
    "    Input: word1 = \"intention\", word2 = \"execution\"\n",
    "    \n",
    "    Output: 5\n",
    "    Explanation:\n",
    "\n",
    "    intention -> inention (remove 't')\n",
    "\n",
    "    inention -> enention (replace 'i' with 'e')\n",
    "\n",
    "    enention -> exention (replace 'n' with 'x')\n",
    "\n",
    "    exention -> exection (replace 'n' with 'c')\n",
    "\n",
    "    exection -> execution (insert 'u')"
   ]
  },
  {
   "cell_type": "code",
   "execution_count": 1,
   "id": "9ad635a2-e695-4d78-9c88-4926553c46bd",
   "metadata": {},
   "outputs": [
    {
     "name": "stdout",
     "output_type": "stream",
     "text": [
      "The Output is: 3\n"
     ]
    }
   ],
   "source": [
    "# Ans: 2\n",
    "\n",
    "#Example:1\n",
    "def minDistance(word1, word2):\n",
    "    # base case\n",
    "    if not word1:\n",
    "        return len(word2)\n",
    "    if not word2:\n",
    "        return len(word1)\n",
    "    \n",
    "    # case1-> last characters match\n",
    "    if word1[-1] == word2[-1]:\n",
    "        return minDistance(word1[:-1], word2[:-1])\n",
    "    \n",
    "    # case2-> last characters doesn't match\n",
    "    insert_op = 1 + minDistance(word1, word2[:-1])       #insert operation\n",
    "    delete_op = 1 + minDistance(word1[:-1], word2)       #delete operation \n",
    "    replace_op = 1 + minDistance(word1[:-1], word2[:-1])   #replace operation\n",
    "    \n",
    "    return min(insert_op, delete_op, replace_op)\n",
    "\n",
    "# testing the function \n",
    "word1 = 'horse'\n",
    "word2 = 'ros'\n",
    "result = minDistance(word1, word2)\n",
    "print('The Output is:', result)"
   ]
  },
  {
   "cell_type": "code",
   "execution_count": 2,
   "id": "98c7beab-daa7-48f3-95d8-c8d7786fccf7",
   "metadata": {},
   "outputs": [
    {
     "name": "stdout",
     "output_type": "stream",
     "text": [
      "The output is: 5\n"
     ]
    }
   ],
   "source": [
    "#example: 2 \n",
    "def minDistance(word1, word2):\n",
    "    # base case \n",
    "    if not word1:\n",
    "        return len(word2)\n",
    "    if not word2:\n",
    "        return len(word1)\n",
    "    \n",
    "    # case1-> last characters match \n",
    "    if word1[-1] == word2[-1]: \n",
    "        return minDistance(word1[:-1], word2[:-1])\n",
    "    \n",
    "    # case-> last charecters doesn't match\n",
    "    insert_op = 1 + minDistance(word1, word2[:-1])\n",
    "    delete_op = 1 + minDistance(word1[:-1], word2)\n",
    "    replace_op = 1 + minDistance(word1[:-1], word2[:-1])\n",
    "    \n",
    "    return min(insert_op, delete_op, replace_op)\n",
    "    \n",
    "    \n",
    "# testing the function \n",
    "word1 = \"intention\"\n",
    "word2 = \"execution\"\n",
    "result = minDistance(word1, word2)\n",
    "print('The output is:', result)"
   ]
  },
  {
   "cell_type": "code",
   "execution_count": null,
   "id": "d46d11d9-d5dd-4084-a1eb-35987f03d729",
   "metadata": {},
   "outputs": [],
   "source": []
  },
  {
   "cell_type": "markdown",
   "id": "b7aa854b-8b7f-4ce0-8bb0-d26da24b841f",
   "metadata": {},
   "source": [
    "# Q. 3 Print the max value of the array [ 13, 1, -3, 22, 5]."
   ]
  },
  {
   "cell_type": "code",
   "execution_count": 3,
   "id": "cd85547f-fa1f-4f52-8013-e3c48b37fd3c",
   "metadata": {},
   "outputs": [
    {
     "name": "stdout",
     "output_type": "stream",
     "text": [
      "22\n"
     ]
    }
   ],
   "source": [
    "# Ans: 3 \n",
    "def find_max_value(arr):\n",
    "    # checking if the array is empty\n",
    "    if not arr:\n",
    "        return None \n",
    "    \n",
    "    # initialize max-value with the 1st element of the array\n",
    "    max_value = arr[0]\n",
    "    \n",
    "    # iterate through the array starting from the 2nd element\n",
    "    for i in arr[1:]:\n",
    "        if i > max_value:     # update the max-val. if the current element is greater\n",
    "            max_value = i\n",
    "    return max_value\n",
    "\n",
    "\n",
    "# testing the funtion with given array \n",
    "arr = [13,1, -3, 22, 5]\n",
    "result = find_max_value(arr)\n",
    "print(result)"
   ]
  },
  {
   "cell_type": "code",
   "execution_count": null,
   "id": "3e8098e1-b597-4307-aad4-401da5639514",
   "metadata": {},
   "outputs": [],
   "source": []
  },
  {
   "cell_type": "markdown",
   "id": "13309feb-64c6-42c4-9bf7-1bc4b9ff59a8",
   "metadata": {},
   "source": [
    "# Q.4 Find the sum of the values of the array [92, 23, 15, -20, 10]."
   ]
  },
  {
   "cell_type": "code",
   "execution_count": 4,
   "id": "4f6b840b-946d-439c-840a-1da85539ee2c",
   "metadata": {},
   "outputs": [
    {
     "name": "stdout",
     "output_type": "stream",
     "text": [
      "120\n"
     ]
    }
   ],
   "source": [
    "# Ans: 4 \n",
    "\n",
    "def find_sum_of_array(arr):\n",
    "    # checking if array is empty \n",
    "    if not arr:\n",
    "        return 0   # if empty then the sum is zero\n",
    "    \n",
    "    # intialize sum-value to 0\n",
    "    sum_value = 0\n",
    "    \n",
    "    # iterate through the array and accumulate the values\n",
    "    for i in arr:\n",
    "        sum_value += i\n",
    "        \n",
    "    return sum_value\n",
    "\n",
    "# testing the funtion with given arr\n",
    "arr = [92, 23, 15, -20, 10]\n",
    "result = find_sum_of_array(arr)\n",
    "print(result)"
   ]
  },
  {
   "cell_type": "code",
   "execution_count": null,
   "id": "c26a331b-3042-4df6-a26f-0a392dd0f4de",
   "metadata": {},
   "outputs": [],
   "source": []
  },
  {
   "cell_type": "markdown",
   "id": "6fb79fb9-b984-46e7-a019-bd09e404f260",
   "metadata": {},
   "source": [
    "# Q.5 Given a number n. Print if it is an armstrong number or not.An armstrong number is a number if the sum of every digit in that number raised to the power of total digits in that number is equal to the number.\n",
    "\n",
    "- Example : 153 = 1^3 + 5^3 + 3^3 = 1 + 125 + 27 = 153 hence 153 is an armstrong number. (Easy)\n",
    "\n",
    "Input1 : 153,\n",
    "Output1 : Yes\n",
    "\n",
    "Input 2 : 134,\n",
    "Output2 : No"
   ]
  },
  {
   "cell_type": "code",
   "execution_count": 8,
   "id": "fe7321f4-e24f-4798-9440-6c66ddb372c6",
   "metadata": {},
   "outputs": [
    {
     "name": "stdout",
     "output_type": "stream",
     "text": [
      "Input1 153\n",
      "Output1: Yes\n",
      "\n",
      "Input2 134\n",
      "Output2: No\n"
     ]
    }
   ],
   "source": [
    "# Ans: 5 \n",
    "\n",
    "def is_armStrong_num(n):\n",
    "    ## Convert the num to a string to find the num of digits\n",
    "    num_str = str(n)\n",
    "    num_digits = len(num_str)\n",
    "    \n",
    "    # calculate the sum of digits raised to the power of num-digits\n",
    "    sum_of_power = sum(int(digit) ** num_digits for digit in num_str)\n",
    "    \n",
    "    # check if the sum is equal to the original num\n",
    "    return sum_of_power == n \n",
    "\n",
    "\n",
    "# checking the funtion with given example \n",
    "input1 = 153\n",
    "output1 = is_armStrong_num(input1)\n",
    "print('Input1', input1)\n",
    "print('Output1:', 'Yes' if output1 else 'No')\n",
    "\n",
    "input2  = 134\n",
    "output2 = is_armStrong_num(input2)\n",
    "print('\\nInput2', input2)\n",
    "print('Output2:', 'Yes' if output2 else 'No')"
   ]
  },
  {
   "cell_type": "code",
   "execution_count": null,
   "id": "0eab539c-a61d-450f-aa11-5de4c15adbc4",
   "metadata": {},
   "outputs": [],
   "source": []
  }
 ],
 "metadata": {
  "kernelspec": {
   "display_name": "Python 3 (ipykernel)",
   "language": "python",
   "name": "python3"
  },
  "language_info": {
   "codemirror_mode": {
    "name": "ipython",
    "version": 3
   },
   "file_extension": ".py",
   "mimetype": "text/x-python",
   "name": "python",
   "nbconvert_exporter": "python",
   "pygments_lexer": "ipython3",
   "version": "3.10.8"
  }
 },
 "nbformat": 4,
 "nbformat_minor": 5
}
